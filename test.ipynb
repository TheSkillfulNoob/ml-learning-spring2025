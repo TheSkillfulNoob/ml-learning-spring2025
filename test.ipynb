{
 "cells": [
  {
   "cell_type": "code",
   "execution_count": 1,
   "metadata": {},
   "outputs": [
    {
     "name": "stdout",
     "output_type": "stream",
     "text": [
      "Results without replacement:\n",
      "{'Player 1': 47888, 'Player 2': 47823, 'Draw': 4289}\n",
      "\n",
      "Results with replacement:\n",
      "{'Player 1': 70601, 'Player 2': 26520, 'Draw': 2879}\n"
     ]
    }
   ],
   "source": [
    "import random\n",
    "from collections import Counter\n",
    "\n",
    "# Helper function to determine the pattern of a hand\n",
    "def evaluate_hand(hand):\n",
    "    count = Counter(hand)\n",
    "    counts = sorted(count.values(), reverse=True)\n",
    "    \n",
    "    # Determine the pattern\n",
    "    if counts == [5]:  # 5 of a kind\n",
    "        return (6, max(count, key=count.get))\n",
    "    elif counts == [4, 1]:  # 4 of a kind\n",
    "        return (5, max(count, key=count.get))\n",
    "    elif counts == [3, 2]:  # Full house\n",
    "        return (4, max(count, key=count.get))\n",
    "    elif counts == [3, 1, 1]:  # 3 of a kind\n",
    "        return (3, max(count, key=count.get))\n",
    "    elif counts == [2, 2, 1]:  # Two pairs\n",
    "        pairs = [val for val, freq in count.items() if freq == 2]\n",
    "        return (2, max(pairs))\n",
    "    elif counts == [2, 1, 1, 1]:  # One pair\n",
    "        pair = max(val for val, freq in count.items() if freq == 2)\n",
    "        return (1, pair)\n",
    "    else:  # Junk\n",
    "        return (0, max(hand))\n",
    "\n",
    "# Strategy 1: No replacement\n",
    "def simulate_game_no_replacement():\n",
    "    deck = [1, 2, 3, 4, 5, 6] * 5\n",
    "    random.shuffle(deck)\n",
    "    \n",
    "    player1_hand = [deck.pop() for _ in range(5)]\n",
    "    player2_hand = [deck.pop() for _ in range(5)]\n",
    "    \n",
    "    player1_score = evaluate_hand(player1_hand)\n",
    "    player2_score = evaluate_hand(player2_hand)\n",
    "    \n",
    "    if player1_score > player2_score:\n",
    "        return \"Player 1\"\n",
    "    elif player1_score < player2_score:\n",
    "        return \"Player 2\"\n",
    "    else:\n",
    "        return \"Draw\"\n",
    "\n",
    "# Strategy 2: Replace all except the highest-occurring card\n",
    "def simulate_game_with_replacement():\n",
    "    deck = [1, 2, 3, 4, 5, 6] * 5\n",
    "    random.shuffle(deck)\n",
    "    \n",
    "    player1_hand = [deck.pop() for _ in range(5)]\n",
    "    player2_hand = [deck.pop() for _ in range(5)]\n",
    "    \n",
    "    # Determine the highest-occurring card or the highest value card\n",
    "    count = Counter(player1_hand)\n",
    "    max_occurrence = max(count.values())\n",
    "    max_cards = [card for card, freq in count.items() if freq == max_occurrence]\n",
    "    keep_card = max(max_cards)\n",
    "    \n",
    "    # Replace all except the keep card\n",
    "    new_hand = []\n",
    "    for card in player1_hand:\n",
    "        if card == keep_card:\n",
    "            new_hand.append(card)\n",
    "        else:\n",
    "            new_hand.append(deck.pop())\n",
    "    player1_hand = new_hand\n",
    "    \n",
    "    player1_score = evaluate_hand(player1_hand)\n",
    "    player2_score = evaluate_hand(player2_hand)\n",
    "    \n",
    "    if player1_score > player2_score:\n",
    "        return \"Player 1\"\n",
    "    elif player1_score < player2_score:\n",
    "        return \"Player 2\"\n",
    "    else:\n",
    "        return \"Draw\"\n",
    "\n",
    "# Monte Carlo Simulation\n",
    "def monte_carlo_simulation(strategy, num_trials=100000):\n",
    "    results = {\"Player 1\": 0, \"Player 2\": 0, \"Draw\": 0}\n",
    "    for _ in range(num_trials):\n",
    "        if strategy == \"no_replacement\":\n",
    "            winner = simulate_game_no_replacement()\n",
    "        elif strategy == \"with_replacement\":\n",
    "            winner = simulate_game_with_replacement()\n",
    "        results[winner] += 1\n",
    "    return results\n",
    "\n",
    "if __name__ == \"__main__\":\n",
    "    # Without replacement\n",
    "    no_replacement_results = monte_carlo_simulation(strategy=\"no_replacement\", num_trials=100000)\n",
    "    print(\"Results without replacement:\")\n",
    "    print(no_replacement_results)\n",
    "    \n",
    "    # With replacement\n",
    "    with_replacement_results = monte_carlo_simulation(strategy=\"with_replacement\", num_trials=100000)\n",
    "    print(\"\\nResults with replacement:\")\n",
    "    print(with_replacement_results)"
   ]
  },
  {
   "cell_type": "code",
   "execution_count": 5,
   "metadata": {},
   "outputs": [
    {
     "data": {
      "text/plain": [
       "False"
      ]
     },
     "execution_count": 5,
     "metadata": {},
     "output_type": "execute_result"
    }
   ],
   "source": [
    "(3, 2, 1) > (3, 2, 2)"
   ]
  }
 ],
 "metadata": {
  "kernelspec": {
   "display_name": "Python 3",
   "language": "python",
   "name": "python3"
  },
  "language_info": {
   "codemirror_mode": {
    "name": "ipython",
    "version": 3
   },
   "file_extension": ".py",
   "mimetype": "text/x-python",
   "name": "python",
   "nbconvert_exporter": "python",
   "pygments_lexer": "ipython3",
   "version": "3.10.11"
  }
 },
 "nbformat": 4,
 "nbformat_minor": 2
}
