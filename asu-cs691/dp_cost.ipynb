{
 "cells": [
  {
   "cell_type": "code",
   "execution_count": 3,
   "metadata": {},
   "outputs": [
    {
     "name": "stdout",
     "output_type": "stream",
     "text": [
      "20 \n",
      " [0, 2, 4, 3, 1, 0]\n"
     ]
    }
   ],
   "source": [
    "import itertools\n",
    "import numpy as np\n",
    "\n",
    "# Cost matrix with 'X' representing no cost (infinite cost for same city)\n",
    "cost_matrix = [\n",
    "    [np.inf, 5, 1, 20, 10],\n",
    "    [20, np.inf, 1, 4, 10],\n",
    "    [1, 20, np.inf, 3, 10],\n",
    "    [18, 4, 3, np.inf, 10],\n",
    "    [30, 10, 0, 10, np.inf]\n",
    "]\n",
    "\n",
    "n = 5\n",
    "# Dynamic Programming table: dp[subset][last_city]\n",
    "dp = {}\n",
    "parent = {}\n",
    "\n",
    "# Initialize base cases\n",
    "for j in range(1, n):\n",
    "    dp[(1 << j) | 1, j] = cost_matrix[0][j]\n",
    "    parent[(1 << j) | 1, j] = 0\n",
    "\n",
    "# Iterate through all subsets of cities that include city 0\n",
    "for subset_size in range(2, n):\n",
    "    for subset in itertools.combinations(range(1, n), subset_size):\n",
    "        bits = 1  # Include starting city 0\n",
    "        for bit in subset:\n",
    "            bits |= 1 << bit\n",
    "\n",
    "        for j in subset:\n",
    "            prev_bits = bits & ~(1 << j)\n",
    "            min_cost = np.inf\n",
    "            prev_city = -1\n",
    "\n",
    "            for k in subset:\n",
    "                if k == j:\n",
    "                    continue\n",
    "                cost = dp.get((prev_bits, k), np.inf) + cost_matrix[k][j]\n",
    "                if cost < min_cost:\n",
    "                    min_cost = cost\n",
    "                    prev_city = k\n",
    "\n",
    "            dp[(bits, j)] = min_cost\n",
    "            parent[(bits, j)] = prev_city\n",
    "\n",
    "# Close the tour by returning to the starting city\n",
    "min_tour_cost = np.inf\n",
    "last_city = -1\n",
    "full_bits = (1 << n) - 1\n",
    "\n",
    "for j in range(1, n):\n",
    "    cost = dp.get((full_bits, j), np.inf) + cost_matrix[j][0]\n",
    "    if cost < min_tour_cost:\n",
    "        min_tour_cost = cost\n",
    "        last_city = j\n",
    "\n",
    "# Reconstruct the optimal path\n",
    "path = [0]\n",
    "bits = full_bits\n",
    "current_city = last_city\n",
    "\n",
    "for _ in range(n - 1):\n",
    "    path.append(current_city)\n",
    "    next_city = parent[(bits, current_city)]\n",
    "    bits &= ~(1 << current_city)\n",
    "    current_city = next_city\n",
    "\n",
    "path.append(0)  # Return to the starting city\n",
    "\n",
    "print(min_tour_cost, \"\\n\", path)"
   ]
  }
 ],
 "metadata": {
  "kernelspec": {
   "display_name": "Python 3",
   "language": "python",
   "name": "python3"
  },
  "language_info": {
   "codemirror_mode": {
    "name": "ipython",
    "version": 3
   },
   "file_extension": ".py",
   "mimetype": "text/x-python",
   "name": "python",
   "nbconvert_exporter": "python",
   "pygments_lexer": "ipython3",
   "version": "3.10.11"
  }
 },
 "nbformat": 4,
 "nbformat_minor": 2
}
